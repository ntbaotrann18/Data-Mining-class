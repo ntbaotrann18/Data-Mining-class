{
 "cells": [
  {
   "cell_type": "markdown",
   "metadata": {
    "collapsed": true
   },
   "source": [
    "### Data Mining class                                        \n",
    "Professor Yonggwan Won                                       \n",
    "Student: Tran Dinh Son (trandinhson3086@gmail.com)                                                      \n",
    "Chonnam National University                                                                            "
   ]
  },
  {
   "cell_type": "markdown",
   "metadata": {},
   "source": [
    "## Import libraries"
   ]
  },
  {
   "cell_type": "code",
   "execution_count": 1,
   "metadata": {},
   "outputs": [
    {
     "name": "stderr",
     "output_type": "stream",
     "text": [
      "C:\\Users\\son\\Anaconda3\\lib\\site-packages\\h5py\\__init__.py:36: FutureWarning: Conversion of the second argument of issubdtype from `float` to `np.floating` is deprecated. In future, it will be treated as `np.float64 == np.dtype(float).type`.\n",
      "  from ._conv import register_converters as _register_converters\n",
      "Using TensorFlow backend.\n"
     ]
    }
   ],
   "source": [
    "import keras\n",
    "from keras.datasets import mnist\n",
    "from keras.models import Model\n",
    "from keras.layers import Input, Flatten, Dense, Dropout\n",
    "from keras.optimizers import SGD\n",
    "\n",
    "from IPython.display import SVG\n",
    "from keras.utils.vis_utils import model_to_dot\n",
    "\n",
    "import time\n",
    "import numpy as np\n",
    "import matplotlib.pyplot as plt\n",
    "\n",
    "from sklearn import tree\n",
    "from sklearn.metrics import accuracy_score, confusion_matrix, classification_report\n",
    "import os\n",
    "\n",
    "from sklearn.svm import SVC\n",
    "from sklearn.model_selection import GridSearchCV\n",
    "from sklearn.decomposition import PCA"
   ]
  },
  {
   "cell_type": "markdown",
   "metadata": {},
   "source": [
    "## Data"
   ]
  },
  {
   "cell_type": "code",
   "execution_count": 2,
   "metadata": {},
   "outputs": [
    {
     "name": "stdout",
     "output_type": "stream",
     "text": [
      "Number of training samples :  60000\n",
      "Number of testing samples: 10000\n"
     ]
    }
   ],
   "source": [
    "#the data, shuffled and split between train and test sets\n",
    "(x_train, y_train), (x_test, y_test) = mnist.load_data()\n",
    "x_train = x_train.reshape(60000, 28, 28)\n",
    "x_test = x_test.reshape(10000, 28, 28)\n",
    "\n",
    "x_train = x_train.astype('float32')\n",
    "x_test = x_test.astype('float32')\n",
    "\n",
    "x_train /= 255\n",
    "x_test /= 255\n",
    "\n",
    "print('Number of training samples : ', x_train.shape[0])\n",
    "print('Number of testing samples:', x_test.shape[0])\n",
    "\n",
    "# 10 class from 0 to 9: 0 1 2 3.. 9\n",
    "num_classes = 10\n",
    "#convert class vectors to binary class matrices\n",
    "y_train = keras.utils.to_categorical(y_train, num_classes)\n",
    "y_test = keras.utils.to_categorical(y_test, num_classes)"
   ]
  },
  {
   "cell_type": "markdown",
   "metadata": {},
   "source": [
    "# 1. MLP"
   ]
  },
  {
   "cell_type": "code",
   "execution_count": 3,
   "metadata": {
    "scrolled": false
   },
   "outputs": [
    {
     "name": "stdout",
     "output_type": "stream",
     "text": [
      "_________________________________________________________________\n",
      "Layer (type)                 Output Shape              Param #   \n",
      "=================================================================\n",
      "Input (InputLayer)           (None, 28, 28)            0         \n",
      "_________________________________________________________________\n",
      "flatten (Flatten)            (None, 784)               0         \n",
      "_________________________________________________________________\n",
      "fc1 (Dense)                  (None, 512)               401920    \n",
      "_________________________________________________________________\n",
      "dropout1 (Dropout)           (None, 512)               0         \n",
      "_________________________________________________________________\n",
      "fc2 (Dense)                  (None, 512)               262656    \n",
      "_________________________________________________________________\n",
      "dropout2 (Dropout)           (None, 512)               0         \n",
      "_________________________________________________________________\n",
      "fc3 (Dense)                  (None, 512)               262656    \n",
      "_________________________________________________________________\n",
      "dropout3 (Dropout)           (None, 512)               0         \n",
      "_________________________________________________________________\n",
      "fc4_10ways_softmax (Dense)   (None, 10)                5130      \n",
      "=================================================================\n",
      "Total params: 932,362\n",
      "Trainable params: 932,362\n",
      "Non-trainable params: 0\n",
      "_________________________________________________________________\n"
     ]
    }
   ],
   "source": [
    "\n",
    "# 28x28 MNIST image\n",
    "input_image = Input(shape=(28, 28), name='Input')\n",
    "\n",
    "# matrix ---> vector\n",
    "x = Flatten(name='flatten')(input_image)\n",
    "\n",
    "# FC layers + dropout\n",
    "x = Dense(units=512, activation='relu', name='fc1')(x)\n",
    "x = Dropout(rate=0.2, name='dropout1')(x)\n",
    "\n",
    "x = Dense(units=512, activation='relu', name='fc2')(x)\n",
    "x = Dropout(rate=0.2, name='dropout2')(x)\n",
    "\n",
    "x = Dense(units=512, activation='relu', name='fc3')(x)\n",
    "x = Dropout(rate=0.2, name='dropout3')(x)\n",
    "\n",
    "output_label = Dense(units=num_classes, activation='softmax', name='fc4_10ways_softmax')(x)\n",
    "\n",
    "# define model\n",
    "model = Model(inputs=input_image, outputs=output_label, name='mnist_mlp')\n",
    "\n",
    "# print model summary\n",
    "model.summary()"
   ]
  },
  {
   "cell_type": "markdown",
   "metadata": {},
   "source": [
    "## Declare model"
   ]
  },
  {
   "cell_type": "code",
   "execution_count": 4,
   "metadata": {
    "scrolled": true
   },
   "outputs": [
    {
     "name": "stdout",
     "output_type": "stream",
     "text": [
      "Train on 60000 samples, validate on 10000 samples\n",
      "Epoch 1/30\n",
      "60000/60000 [==============================] - 6s 101us/step - loss: 1.3449 - acc: 0.6254 - val_loss: 0.5362 - val_acc: 0.8581\n",
      "Epoch 2/30\n",
      "60000/60000 [==============================] - 3s 53us/step - loss: 0.5654 - acc: 0.8310 - val_loss: 0.3667 - val_acc: 0.8938\n",
      "Epoch 3/30\n",
      "60000/60000 [==============================] - 3s 57us/step - loss: 0.4448 - acc: 0.8669 - val_loss: 0.3123 - val_acc: 0.9084\n",
      "Epoch 4/30\n",
      "60000/60000 [==============================] - 3s 53us/step - loss: 0.3846 - acc: 0.8854 - val_loss: 0.2794 - val_acc: 0.9182\n",
      "Epoch 5/30\n",
      "60000/60000 [==============================] - 3s 53us/step - loss: 0.3426 - acc: 0.8987 - val_loss: 0.2555 - val_acc: 0.9253\n",
      "Epoch 6/30\n",
      "60000/60000 [==============================] - 3s 52us/step - loss: 0.3163 - acc: 0.9063 - val_loss: 0.2362 - val_acc: 0.9316\n",
      "Epoch 7/30\n",
      "60000/60000 [==============================] - 3s 52us/step - loss: 0.2909 - acc: 0.9135 - val_loss: 0.2209 - val_acc: 0.9353\n",
      "Epoch 8/30\n",
      "60000/60000 [==============================] - 3s 52us/step - loss: 0.2703 - acc: 0.9199 - val_loss: 0.2055 - val_acc: 0.9406\n",
      "Epoch 9/30\n",
      "60000/60000 [==============================] - 3s 52us/step - loss: 0.2563 - acc: 0.9248 - val_loss: 0.1936 - val_acc: 0.9438\n",
      "Epoch 10/30\n",
      "60000/60000 [==============================] - 3s 53us/step - loss: 0.2414 - acc: 0.9295 - val_loss: 0.1826 - val_acc: 0.9465\n",
      "Epoch 11/30\n",
      "60000/60000 [==============================] - 3s 52us/step - loss: 0.2259 - acc: 0.9328 - val_loss: 0.1746 - val_acc: 0.9494\n",
      "Epoch 12/30\n",
      "60000/60000 [==============================] - 3s 53us/step - loss: 0.2148 - acc: 0.9367 - val_loss: 0.1667 - val_acc: 0.9503\n",
      "Epoch 13/30\n",
      "60000/60000 [==============================] - 3s 55us/step - loss: 0.2037 - acc: 0.9404 - val_loss: 0.1599 - val_acc: 0.9517\n",
      "Epoch 14/30\n",
      "60000/60000 [==============================] - 3s 54us/step - loss: 0.1936 - acc: 0.9424 - val_loss: 0.1510 - val_acc: 0.9543\n",
      "Epoch 15/30\n",
      "60000/60000 [==============================] - 3s 52us/step - loss: 0.1855 - acc: 0.9458 - val_loss: 0.1454 - val_acc: 0.9555\n",
      "Epoch 16/30\n",
      "60000/60000 [==============================] - 3s 53us/step - loss: 0.1792 - acc: 0.9468 - val_loss: 0.1393 - val_acc: 0.9575\n",
      "Epoch 17/30\n",
      "60000/60000 [==============================] - 3s 54us/step - loss: 0.1729 - acc: 0.9483 - val_loss: 0.1346 - val_acc: 0.9595\n",
      "Epoch 18/30\n",
      "60000/60000 [==============================] - 3s 52us/step - loss: 0.1667 - acc: 0.9502 - val_loss: 0.1295 - val_acc: 0.9596\n",
      "Epoch 19/30\n",
      "60000/60000 [==============================] - 3s 53us/step - loss: 0.1604 - acc: 0.9519 - val_loss: 0.1257 - val_acc: 0.9606\n",
      "Epoch 20/30\n",
      "60000/60000 [==============================] - 3s 51us/step - loss: 0.1544 - acc: 0.9541 - val_loss: 0.1218 - val_acc: 0.9619\n",
      "Epoch 21/30\n",
      "60000/60000 [==============================] - 3s 51us/step - loss: 0.1498 - acc: 0.9556 - val_loss: 0.1187 - val_acc: 0.9625\n",
      "Epoch 22/30\n",
      "60000/60000 [==============================] - 3s 55us/step - loss: 0.1434 - acc: 0.9571 - val_loss: 0.1151 - val_acc: 0.9645\n",
      "Epoch 23/30\n",
      "60000/60000 [==============================] - 3s 52us/step - loss: 0.1382 - acc: 0.9586 - val_loss: 0.1135 - val_acc: 0.9640\n",
      "Epoch 24/30\n",
      "60000/60000 [==============================] - 3s 54us/step - loss: 0.1342 - acc: 0.9598 - val_loss: 0.1097 - val_acc: 0.9651\n",
      "Epoch 25/30\n",
      "60000/60000 [==============================] - 3s 51us/step - loss: 0.1300 - acc: 0.9619 - val_loss: 0.1073 - val_acc: 0.9670\n",
      "Epoch 26/30\n",
      "60000/60000 [==============================] - 3s 51us/step - loss: 0.1267 - acc: 0.9612 - val_loss: 0.1035 - val_acc: 0.9678\n",
      "Epoch 27/30\n",
      "60000/60000 [==============================] - 3s 53us/step - loss: 0.1217 - acc: 0.9636 - val_loss: 0.1026 - val_acc: 0.9686\n",
      "Epoch 28/30\n",
      "60000/60000 [==============================] - 3s 52us/step - loss: 0.1195 - acc: 0.9639 - val_loss: 0.0999 - val_acc: 0.9694\n",
      "Epoch 29/30\n",
      "60000/60000 [==============================] - 3s 52us/step - loss: 0.1165 - acc: 0.9653 - val_loss: 0.0985 - val_acc: 0.9694\n",
      "Epoch 30/30\n",
      "60000/60000 [==============================] - 3s 52us/step - loss: 0.1129 - acc: 0.9662 - val_loss: 0.0958 - val_acc: 0.9703\n",
      "> training time is 1.6366 minutes\n"
     ]
    }
   ],
   "source": [
    "# declare learning rate, loss function, and model metric\n",
    "loss = 'categorical_crossentropy'\n",
    "lr = 0.01\n",
    "model.compile(loss=loss, optimizer=SGD(lr=lr), metrics=['accuracy'])\n",
    "\n",
    "# train the model\n",
    "batch_size = 128\n",
    "epochs = 30\n",
    "\n",
    "starting_time = time.time()\n",
    "history = model.fit(x_train, y_train,\n",
    "                    validation_data=(x_test, y_test),\n",
    "                    batch_size=batch_size,\n",
    "                    epochs=epochs)\n",
    "print('> training time is %.4f minutes' % ((time.time() - starting_time)/60))"
   ]
  },
  {
   "cell_type": "code",
   "execution_count": 5,
   "metadata": {
    "scrolled": true
   },
   "outputs": [
    {
     "name": "stdout",
     "output_type": "stream",
     "text": [
      "10000/10000 [==============================] - 1s 115us/step\n",
      "Test loss: 0.09583219577288254\n",
      "Test accuracy: 0.9703\n"
     ]
    }
   ],
   "source": [
    "score = model.evaluate(x_test, y_test)\n",
    "print('Test loss:', score[0])\n",
    "print('Test accuracy:', score[1])"
   ]
  },
  {
   "cell_type": "code",
   "execution_count": 6,
   "metadata": {},
   "outputs": [
    {
     "data": {
      "image/png": "[encoded data removed]",
      "text/plain": [
       "<matplotlib.figure.Figure at 0x21f785b17f0>"
      ]
     },
     "metadata": {},
     "output_type": "display_data"
    }
   ],
   "source": [
    "# select a test image randomly\n",
    "random_test_index = np.random.choice(x_test.shape[0], size=1)[0]\n",
    "test_img = x_test[random_test_index]\n",
    "test_label = np.argmax(y_test[random_test_index])\n",
    "\n",
    "# predict test image with trained model\n",
    "pred_label = model.predict(np.expand_dims(test_img, axis=0))\n",
    "pred_label = np.argmax(pred_label)\n",
    "\n",
    "plt.imshow(test_img, cmap='gray')\n",
    "plt.title('true label = %d, predicted label = %d' % (test_label, pred_label))\n",
    "plt.show()"
   ]
  },
  {
   "cell_type": "markdown",
   "metadata": {
    "collapsed": true
   },
   "source": [
    "# 2. Decision Tree"
   ]
  },
  {
   "cell_type": "code",
   "execution_count": 29,
   "metadata": {
    "collapsed": true
   },
   "outputs": [],
   "source": [
    "import time\n",
    "from sklearn import tree\n",
    "from time import time\n",
    "from sklearn.metrics import accuracy_score, confusion_matrix, classification_report\n",
    "import os\n",
    "from sklearn.svm import SVC\n",
    "from sklearn.model_selection import GridSearchCV\n",
    "from sklearn.decomposition import PCA"
   ]
  },
  {
   "cell_type": "code",
   "execution_count": 30,
   "metadata": {},
   "outputs": [
    {
     "name": "stdout",
     "output_type": "stream",
     "text": [
      "time for training is 34.338306188583374 seconds\n"
     ]
    }
   ],
   "source": [
    "t0 = time()\n",
    "clf_dt = tree.DecisionTreeClassifier()\n",
    "clf_dt.fit(x_train.reshape(-1,28*28), y_train)\n",
    "print(\"time for training is \" + str((time()-t0))+ \" seconds\")"
   ]
  },
  {
   "cell_type": "markdown",
   "metadata": {},
   "source": [
    "### Run the Prediction"
   ]
  },
  {
   "cell_type": "code",
   "execution_count": 9,
   "metadata": {},
   "outputs": [
    {
     "name": "stdout",
     "output_type": "stream",
     "text": [
      "Predicted 10000 digits with ccuracy: 0.88%\n"
     ]
    }
   ],
   "source": [
    "pred_dt = clf_dt.predict(x_test.reshape(-1,28*28))\n",
    "print('Predicted', len(pred_dt), \"digits with ccuracy: {0:.2f}%\".format(accuracy_score(y_test, pred_dt)))"
   ]
  },
  {
   "cell_type": "markdown",
   "metadata": {},
   "source": [
    "# 3. SVM"
   ]
  },
  {
   "cell_type": "code",
   "execution_count": 27,
   "metadata": {},
   "outputs": [
    {
     "name": "stdout",
     "output_type": "stream",
     "text": [
      "time for training is 80.7969651222229 seconds\n"
     ]
    }
   ],
   "source": [
    "tic=time.time()\n",
    "\n",
    "svm=SVC(kernel='rbf', C=2.8,gamma=.05,random_state=42)\n",
    "\n",
    "svm.fit(X_train,y_train)\n",
    "toc=time.time()\n",
    "print(\"time for training is \" + str((toc-tic))+ \" seconds\" )"
   ]
  },
  {
   "cell_type": "code",
   "execution_count": 26,
   "metadata": {},
   "outputs": [
    {
     "name": "stdout",
     "output_type": "stream",
     "text": [
      "Test accuracy: 0.9855\n"
     ]
    }
   ],
   "source": [
    "y_pred_test = svm.predict(X_test)\n",
    "print('Test accuracy:', accuracy_score(y_test, y_pred_test))"
   ]
  }
 ],
 "metadata": {
  "kernelspec": {
   "display_name": "Python [conda env:Anaconda3]",
   "language": "python",
   "name": "conda-env-Anaconda3-py"
  },
  "language_info": {
   "codemirror_mode": {
    "name": "ipython",
    "version": 3
   },
   "file_extension": ".py",
   "mimetype": "text/x-python",
   "name": "python",
   "nbconvert_exporter": "python",
   "pygments_lexer": "ipython3",
   "version": "3.5.3"
  }
 },
 "nbformat": 4,
 "nbformat_minor": 2
}

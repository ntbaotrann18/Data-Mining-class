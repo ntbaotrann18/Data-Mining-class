{
 "cells": [
  {
   "cell_type": "code",
   "execution_count": 1,
   "metadata": {
    "collapsed": true
   },
   "outputs": [],
   "source": [
    "#1 Tran Dinh Son\n",
    "#trandinhson3086@gmail.com\n",
    "#Chonnam National University"
   ]
  },
  {
   "cell_type": "markdown",
   "metadata": {},
   "source": [
    "## Import libraries"
   ]
  },
  {
   "cell_type": "code",
   "execution_count": 34,
   "metadata": {},
   "outputs": [],
   "source": [
    "import keras\n",
    "from keras.datasets import mnist\n",
    "from keras.models import Model\n",
    "from keras.layers import Input, Flatten, Dense, Dropout\n",
    "from keras.optimizers import SGD\n",
    "\n",
    "from IPython.display import SVG\n",
    "from keras.utils.vis_utils import model_to_dot\n",
    "\n",
    "import time\n",
    "import numpy as np\n",
    "import matplotlib.pyplot as plt"
   ]
  },
  {
   "cell_type": "markdown",
   "metadata": {},
   "source": [
    "## Data"
   ]
  },
  {
   "cell_type": "code",
   "execution_count": 35,
   "metadata": {},
   "outputs": [
    {
     "name": "stdout",
     "output_type": "stream",
     "text": [
      "Number of training samples :  60000\n",
      "Number of testing samples: 10000\n"
     ]
    }
   ],
   "source": [
    "#the data, shuffled and split between train and test sets\n",
    "(x_train, y_train), (x_test, y_test) = mnist.load_data()\n",
    "x_train = x_train.reshape(60000, 28, 28)\n",
    "x_test = x_test.reshape(10000, 28, 28)\n",
    "\n",
    "x_train = x_train.astype('float32')\n",
    "x_test = x_test.astype('float32')\n",
    "\n",
    "x_train /= 255\n",
    "x_test /= 255\n",
    "\n",
    "print('Number of training samples : ', x_train.shape[0])\n",
    "print('Number of testing samples:', x_test.shape[0])\n",
    "\n",
    "# 10 class from 0 to 9: 0 1 2 3.. 9\n",
    "num_classes = 10\n",
    "#convert class vectors to binary class matrices\n",
    "y_train = keras.utils.to_categorical(y_train, num_classes)\n",
    "y_test = keras.utils.to_categorical(y_test, num_classes)"
   ]
  },
  {
   "cell_type": "markdown",
   "metadata": {},
   "source": [
    "# 1. MLP"
   ]
  },
  {
   "cell_type": "code",
   "execution_count": 36,
   "metadata": {},
   "outputs": [
    {
     "name": "stdout",
     "output_type": "stream",
     "text": [
      "_________________________________________________________________\n",
      "Layer (type)                 Output Shape              Param #   \n",
      "=================================================================\n",
      "Input (InputLayer)           (None, 28, 28)            0         \n",
      "_________________________________________________________________\n",
      "flatten (Flatten)            (None, 784)               0         \n",
      "_________________________________________________________________\n",
      "fc1 (Dense)                  (None, 512)               401920    \n",
      "_________________________________________________________________\n",
      "dropout1 (Dropout)           (None, 512)               0         \n",
      "_________________________________________________________________\n",
      "fc2 (Dense)                  (None, 512)               262656    \n",
      "_________________________________________________________________\n",
      "dropout2 (Dropout)           (None, 512)               0         \n",
      "_________________________________________________________________\n",
      "fc3 (Dense)                  (None, 512)               262656    \n",
      "_________________________________________________________________\n",
      "dropout3 (Dropout)           (None, 512)               0         \n",
      "_________________________________________________________________\n",
      "fc4_10ways_softmax (Dense)   (None, 10)                5130      \n",
      "=================================================================\n",
      "Total params: 932,362\n",
      "Trainable params: 932,362\n",
      "Non-trainable params: 0\n",
      "_________________________________________________________________\n"
     ]
    }
   ],
   "source": [
    "\n",
    "# 28x28 MNIST image\n",
    "input_image = Input(shape=(28, 28), name='Input')\n",
    "\n",
    "# matrix ---> vector\n",
    "x = Flatten(name='flatten')(input_image)\n",
    "\n",
    "# FC layers + dropout\n",
    "x = Dense(units=512, activation='relu', name='fc1')(x)\n",
    "x = Dropout(rate=0.2, name='dropout1')(x)\n",
    "\n",
    "x = Dense(units=512, activation='relu', name='fc2')(x)\n",
    "x = Dropout(rate=0.2, name='dropout2')(x)\n",
    "\n",
    "x = Dense(units=512, activation='relu', name='fc3')(x)\n",
    "x = Dropout(rate=0.2, name='dropout3')(x)\n",
    "\n",
    "output_label = Dense(units=num_classes, activation='softmax', name='fc4_10ways_softmax')(x)\n",
    "\n",
    "# define model\n",
    "model = Model(inputs=input_image, outputs=output_label, name='mnist_mlp')\n",
    "\n",
    "# print model summary\n",
    "model.summary()"
   ]
  },
  {
   "cell_type": "markdown",
   "metadata": {},
   "source": [
    "## Declare model"
   ]
  },
  {
   "cell_type": "code",
   "execution_count": 37,
   "metadata": {},
   "outputs": [
    {
     "name": "stdout",
     "output_type": "stream",
     "text": [
      "Train on 60000 samples, validate on 10000 samples\n",
      "Epoch 1/30\n",
      "60000/60000 [==============================] - 9s 153us/step - loss: 1.3766 - acc: 0.6199 - val_loss: 0.5353 - val_acc: 0.8543\n",
      "Epoch 2/30\n",
      "60000/60000 [==============================] - 9s 153us/step - loss: 0.5598 - acc: 0.8317 - val_loss: 0.3612 - val_acc: 0.8970\n",
      "Epoch 3/30\n",
      "60000/60000 [==============================] - 9s 150us/step - loss: 0.4322 - acc: 0.8710 - val_loss: 0.3031 - val_acc: 0.9112\n",
      "Epoch 4/30\n",
      "60000/60000 [==============================] - 9s 150us/step - loss: 0.3750 - acc: 0.8897 - val_loss: 0.2702 - val_acc: 0.9217\n",
      "Epoch 5/30\n",
      "60000/60000 [==============================] - 9s 151us/step - loss: 0.3363 - acc: 0.9021 - val_loss: 0.2461 - val_acc: 0.9273\n",
      "Epoch 6/30\n",
      "60000/60000 [==============================] - 9s 156us/step - loss: 0.3076 - acc: 0.9081 - val_loss: 0.2296 - val_acc: 0.9326\n",
      "Epoch 7/30\n",
      "60000/60000 [==============================] - 9s 152us/step - loss: 0.2851 - acc: 0.9161 - val_loss: 0.2125 - val_acc: 0.9366\n",
      "Epoch 8/30\n",
      "60000/60000 [==============================] - 9s 149us/step - loss: 0.2671 - acc: 0.9204 - val_loss: 0.1995 - val_acc: 0.9404\n",
      "Epoch 9/30\n",
      "60000/60000 [==============================] - 9s 148us/step - loss: 0.2474 - acc: 0.9272 - val_loss: 0.1872 - val_acc: 0.9443\n",
      "Epoch 10/30\n",
      "60000/60000 [==============================] - 9s 150us/step - loss: 0.2344 - acc: 0.9307 - val_loss: 0.1771 - val_acc: 0.9481\n",
      "Epoch 11/30\n",
      "60000/60000 [==============================] - 9s 146us/step - loss: 0.2217 - acc: 0.9342 - val_loss: 0.1686 - val_acc: 0.9505\n",
      "Epoch 12/30\n",
      "60000/60000 [==============================] - 9s 146us/step - loss: 0.2076 - acc: 0.9385 - val_loss: 0.1591 - val_acc: 0.9527\n",
      "Epoch 13/30\n",
      "60000/60000 [==============================] - 9s 146us/step - loss: 0.1987 - acc: 0.9411 - val_loss: 0.1530 - val_acc: 0.9546\n",
      "Epoch 14/30\n",
      "60000/60000 [==============================] - 9s 146us/step - loss: 0.1913 - acc: 0.9438 - val_loss: 0.1460 - val_acc: 0.9560\n",
      "Epoch 15/30\n",
      "60000/60000 [==============================] - 9s 148us/step - loss: 0.1801 - acc: 0.9460 - val_loss: 0.1409 - val_acc: 0.9576\n",
      "Epoch 16/30\n",
      "60000/60000 [==============================] - 9s 147us/step - loss: 0.1735 - acc: 0.9487 - val_loss: 0.1350 - val_acc: 0.9589\n",
      "Epoch 17/30\n",
      "60000/60000 [==============================] - 9s 152us/step - loss: 0.1668 - acc: 0.9505 - val_loss: 0.1299 - val_acc: 0.9601\n",
      "Epoch 18/30\n",
      "60000/60000 [==============================] - 9s 151us/step - loss: 0.1602 - acc: 0.9524 - val_loss: 0.1257 - val_acc: 0.9613\n",
      "Epoch 19/30\n",
      "60000/60000 [==============================] - 9s 148us/step - loss: 0.1545 - acc: 0.9535 - val_loss: 0.1223 - val_acc: 0.9623\n",
      "Epoch 20/30\n",
      "60000/60000 [==============================] - 9s 148us/step - loss: 0.1485 - acc: 0.9555 - val_loss: 0.1188 - val_acc: 0.9628\n",
      "Epoch 21/30\n",
      "60000/60000 [==============================] - 9s 146us/step - loss: 0.1436 - acc: 0.9574 - val_loss: 0.1162 - val_acc: 0.9636\n",
      "Epoch 22/30\n",
      "60000/60000 [==============================] - 9s 146us/step - loss: 0.1397 - acc: 0.9589 - val_loss: 0.1127 - val_acc: 0.9655\n",
      "Epoch 23/30\n",
      "60000/60000 [==============================] - 9s 147us/step - loss: 0.1360 - acc: 0.9595 - val_loss: 0.1097 - val_acc: 0.9665\n",
      "Epoch 24/30\n",
      "60000/60000 [==============================] - 9s 148us/step - loss: 0.1307 - acc: 0.9609 - val_loss: 0.1070 - val_acc: 0.9669\n",
      "Epoch 25/30\n",
      "60000/60000 [==============================] - 9s 147us/step - loss: 0.1264 - acc: 0.9618 - val_loss: 0.1044 - val_acc: 0.9680\n",
      "Epoch 26/30\n",
      "60000/60000 [==============================] - 9s 150us/step - loss: 0.1247 - acc: 0.9628 - val_loss: 0.1020 - val_acc: 0.9686\n",
      "Epoch 27/30\n",
      "60000/60000 [==============================] - 9s 149us/step - loss: 0.1215 - acc: 0.9635 - val_loss: 0.0999 - val_acc: 0.9699\n",
      "Epoch 28/30\n",
      "60000/60000 [==============================] - 9s 151us/step - loss: 0.1155 - acc: 0.9652 - val_loss: 0.0980 - val_acc: 0.9702\n",
      "Epoch 29/30\n",
      "60000/60000 [==============================] - 9s 146us/step - loss: 0.1124 - acc: 0.9662 - val_loss: 0.0974 - val_acc: 0.9693\n",
      "Epoch 30/30\n",
      "60000/60000 [==============================] - 9s 148us/step - loss: 0.1115 - acc: 0.9665 - val_loss: 0.0947 - val_acc: 0.9704\n",
      "> training time is 4.4718 minutes\n"
     ]
    }
   ],
   "source": [
    "\n",
    "# declare learning rate, loss function, and model metric\n",
    "loss = 'categorical_crossentropy'\n",
    "lr = 0.01\n",
    "model.compile(loss=loss, optimizer=SGD(lr=lr), metrics=['accuracy'])\n",
    "\n",
    "# train the model\n",
    "batch_size = 128\n",
    "epochs = 30\n",
    "\n",
    "starting_time = time.time()\n",
    "history = model.fit(x_train, y_train,\n",
    "                    validation_data=(x_test, y_test),\n",
    "                    batch_size=batch_size,\n",
    "                    epochs=epochs)\n",
    "print('> training time is %.4f minutes' % ((time.time() - starting_time)/60))"
   ]
  },
  {
   "cell_type": "code",
   "execution_count": 38,
   "metadata": {
    "scrolled": true
   },
   "outputs": [
    {
     "name": "stdout",
     "output_type": "stream",
     "text": [
      "10000/10000 [==============================] - 1s 102us/step\n",
      "Test loss: 0.09469581072451547\n",
      "Test accuracy: 0.9704\n"
     ]
    }
   ],
   "source": [
    "score = model.evaluate(x_test, y_test)\n",
    "print('Test loss:', score[0])\n",
    "print('Test accuracy:', score[1])"
   ]
  },
  {
   "cell_type": "code",
   "execution_count": 39,
   "metadata": {},
   "outputs": [
    {
     "data": {
      "image/png": "[encoded data removed]",
      "text/plain": [
       "<Figure size 432x288 with 1 Axes>"
      ]
     },
     "metadata": {},
     "output_type": "display_data"
    }
   ],
   "source": [
    "# select a test image randomly\n",
    "random_test_index = np.random.choice(x_test.shape[0], size=1)[0]\n",
    "test_img = x_test[random_test_index]\n",
    "test_label = np.argmax(y_test[random_test_index])\n",
    "\n",
    "# predict test image with trained model\n",
    "pred_label = model.predict(np.expand_dims(test_img, axis=0))\n",
    "pred_label = np.argmax(pred_label)\n",
    "\n",
    "plt.imshow(test_img, cmap='gray')\n",
    "plt.title('true label = %d, predicted label = %d' % (test_label, pred_label))\n",
    "plt.show()"
   ]
  },
  {
   "cell_type": "markdown",
   "metadata": {
    "collapsed": true
   },
   "source": [
    "# 2. Decision Tree"
   ]
  },
  {
   "cell_type": "code",
   "execution_count": 40,
   "metadata": {},
   "outputs": [],
   "source": [
    "import time\n",
    "from sklearn import tree\n",
    "from time import time\n",
    "from sklearn.metrics import accuracy_score, confusion_matrix, classification_report"
   ]
  },
  {
   "cell_type": "code",
   "execution_count": 41,
   "metadata": {},
   "outputs": [
    {
     "name": "stdout",
     "output_type": "stream",
     "text": [
      "Time elapsed: 32.76s\n"
     ]
    }
   ],
   "source": [
    "\n",
    "t0 = time()\n",
    "clf_dt = tree.DecisionTreeClassifier()\n",
    "clf_dt.fit(x_train.reshape(-1,28*28), y_train)\n",
    "print('Time elapsed: %.2fs' % (time()-t0))"
   ]
  },
  {
   "cell_type": "markdown",
   "metadata": {},
   "source": [
    "## Run the Prediction"
   ]
  },
  {
   "cell_type": "code",
   "execution_count": 44,
   "metadata": {},
   "outputs": [
    {
     "name": "stdout",
     "output_type": "stream",
     "text": [
      "Predicted 10000 digits with ccuracy: 0.88%\n"
     ]
    }
   ],
   "source": [
    "pred_dt = clf_dt.predict(x_test.reshape(-1,28*28))\n",
    "print('Predicted', len(pred_dt), \"digits with ccuracy: {0:.2f}%\".format(accuracy_score(y_test, pred_dt)))"
   ]
  }
 ],
 "metadata": {
  "kernelspec": {
   "display_name": "Python [conda env:py36]",
   "language": "python",
   "name": "conda-env-py36-py"
  },
  "language_info": {
   "codemirror_mode": {
    "name": "ipython",
    "version": 3
   },
   "file_extension": ".py",
   "mimetype": "text/x-python",
   "name": "python",
   "nbconvert_exporter": "python",
   "pygments_lexer": "ipython3",
   "version": "3.6.2"
  }
 },
 "nbformat": 4,
 "nbformat_minor": 2
}

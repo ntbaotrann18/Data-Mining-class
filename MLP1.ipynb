{
 "cells": [
  {
   "cell_type": "code",
   "execution_count": 1,
   "metadata": {
    "collapsed": true
   },
   "outputs": [],
   "source": [
    "#1 Tran Dinh Son\n",
    "#trandinhson3086@gmail.com\n",
    "#Chonnam National University"
   ]
  },
  {
   "cell_type": "markdown",
   "metadata": {},
   "source": [
    "# Import libraries"
   ]
  },
  {
   "cell_type": "code",
   "execution_count": 1,
   "metadata": {},
   "outputs": [
    {
     "name": "stderr",
     "output_type": "stream",
     "text": [
      "Using TensorFlow backend.\n"
     ]
    }
   ],
   "source": [
    "import keras\n",
    "from keras.datasets import mnist\n",
    "from keras.models import Model\n",
    "from keras.layers import Input, Flatten, Dense, Dropout\n",
    "from keras.optimizers import SGD\n",
    "\n",
    "from IPython.display import SVG\n",
    "from keras.utils.vis_utils import model_to_dot\n",
    "\n",
    "import time\n",
    "import numpy as np\n",
    "import matplotlib.pyplot as plt"
   ]
  },
  {
   "cell_type": "markdown",
   "metadata": {},
   "source": [
    "# Data"
   ]
  },
  {
   "cell_type": "code",
   "execution_count": 2,
   "metadata": {},
   "outputs": [
    {
     "name": "stdout",
     "output_type": "stream",
     "text": [
      "Number of training samples :  60000\n",
      "Number of testing samples: 10000\n"
     ]
    }
   ],
   "source": [
    "#the data, shuffled and split between train and test sets\n",
    "(x_train, y_train), (x_test, y_test) = mnist.load_data()\n",
    "x_train = x_train.reshape(60000, 28, 28)\n",
    "x_test = x_test.reshape(10000, 28, 28)\n",
    "\n",
    "x_train = x_train.astype('float32')\n",
    "x_test = x_test.astype('float32')\n",
    "\n",
    "x_train /= 255\n",
    "x_test /= 255\n",
    "\n",
    "print('Number of training samples : ', x_train.shape[0])\n",
    "print('Number of testing samples:', x_test.shape[0])\n",
    "\n",
    "# 10 class from 0 to 9: 0 1 2 3.. 9\n",
    "num_classes = 10\n",
    "#convert class vectors to binary class matrices\n",
    "y_train = keras.utils.to_categorical(y_train, num_classes)\n",
    "y_test = keras.utils.to_categorical(y_test, num_classes)"
   ]
  },
  {
   "cell_type": "markdown",
   "metadata": {},
   "source": [
    "# Model"
   ]
  },
  {
   "cell_type": "code",
   "execution_count": 3,
   "metadata": {},
   "outputs": [
    {
     "name": "stdout",
     "output_type": "stream",
     "text": [
      "_________________________________________________________________\n",
      "Layer (type)                 Output Shape              Param #   \n",
      "=================================================================\n",
      "Input (InputLayer)           (None, 28, 28)            0         \n",
      "_________________________________________________________________\n",
      "flatten (Flatten)            (None, 784)               0         \n",
      "_________________________________________________________________\n",
      "fc1 (Dense)                  (None, 512)               401920    \n",
      "_________________________________________________________________\n",
      "dropout1 (Dropout)           (None, 512)               0         \n",
      "_________________________________________________________________\n",
      "fc2 (Dense)                  (None, 512)               262656    \n",
      "_________________________________________________________________\n",
      "dropout2 (Dropout)           (None, 512)               0         \n",
      "_________________________________________________________________\n",
      "fc3 (Dense)                  (None, 512)               262656    \n",
      "_________________________________________________________________\n",
      "dropout3 (Dropout)           (None, 512)               0         \n",
      "_________________________________________________________________\n",
      "fc4_10ways_softmax (Dense)   (None, 10)                5130      \n",
      "=================================================================\n",
      "Total params: 932,362\n",
      "Trainable params: 932,362\n",
      "Non-trainable params: 0\n",
      "_________________________________________________________________\n"
     ]
    }
   ],
   "source": [
    "\n",
    "# 28x28 MNIST image\n",
    "input_image = Input(shape=(28, 28), name='Input')\n",
    "\n",
    "# matrix ---> vector\n",
    "x = Flatten(name='flatten')(input_image)\n",
    "\n",
    "# FC layers + dropout\n",
    "x = Dense(units=512, activation='relu', name='fc1')(x)\n",
    "x = Dropout(rate=0.2, name='dropout1')(x)\n",
    "\n",
    "x = Dense(units=512, activation='relu', name='fc2')(x)\n",
    "x = Dropout(rate=0.2, name='dropout2')(x)\n",
    "\n",
    "x = Dense(units=512, activation='relu', name='fc3')(x)\n",
    "x = Dropout(rate=0.2, name='dropout3')(x)\n",
    "\n",
    "output_label = Dense(units=num_classes, activation='softmax', name='fc4_10ways_softmax')(x)\n",
    "\n",
    "# define model\n",
    "model = Model(inputs=input_image, outputs=output_label, name='mnist_mlp')\n",
    "\n",
    "# print model summary\n",
    "model.summary()"
   ]
  },
  {
   "cell_type": "markdown",
   "metadata": {},
   "source": [
    "# Declare model"
   ]
  },
  {
   "cell_type": "code",
   "execution_count": 4,
   "metadata": {},
   "outputs": [
    {
     "name": "stdout",
     "output_type": "stream",
     "text": [
      "Train on 60000 samples, validate on 10000 samples\n",
      "Epoch 1/30\n",
      "60000/60000 [==============================] - 5s - loss: 1.4192 - acc: 0.5988 - val_loss: 0.5544 - val_acc: 0.8639\n",
      "Epoch 2/30\n",
      "60000/60000 [==============================] - 2s - loss: 0.5697 - acc: 0.8324 - val_loss: 0.3580 - val_acc: 0.9010\n",
      "Epoch 3/30\n",
      "60000/60000 [==============================] - 2s - loss: 0.4324 - acc: 0.8716 - val_loss: 0.3018 - val_acc: 0.9122\n",
      "Epoch 4/30\n",
      "60000/60000 [==============================] - 2s - loss: 0.3705 - acc: 0.8914 - val_loss: 0.2691 - val_acc: 0.9214\n",
      "Epoch 5/30\n",
      "60000/60000 [==============================] - 2s - loss: 0.3342 - acc: 0.9015 - val_loss: 0.2457 - val_acc: 0.9289\n",
      "Epoch 6/30\n",
      "60000/60000 [==============================] - 2s - loss: 0.3060 - acc: 0.9107 - val_loss: 0.2283 - val_acc: 0.9319\n",
      "Epoch 7/30\n",
      "60000/60000 [==============================] - 2s - loss: 0.2845 - acc: 0.9158 - val_loss: 0.2130 - val_acc: 0.9361\n",
      "Epoch 8/30\n",
      "60000/60000 [==============================] - 2s - loss: 0.2611 - acc: 0.9242 - val_loss: 0.1987 - val_acc: 0.9392\n",
      "Epoch 9/30\n",
      "60000/60000 [==============================] - 2s - loss: 0.2463 - acc: 0.9278 - val_loss: 0.1867 - val_acc: 0.9431\n",
      "Epoch 10/30\n",
      "60000/60000 [==============================] - 2s - loss: 0.2336 - acc: 0.9308 - val_loss: 0.1767 - val_acc: 0.9470\n",
      "Epoch 11/30\n",
      "60000/60000 [==============================] - 2s - loss: 0.2206 - acc: 0.9349 - val_loss: 0.1672 - val_acc: 0.9496\n",
      "Epoch 12/30\n",
      "60000/60000 [==============================] - 2s - loss: 0.2066 - acc: 0.9389 - val_loss: 0.1595 - val_acc: 0.9505\n",
      "Epoch 13/30\n",
      "60000/60000 [==============================] - 2s - loss: 0.1983 - acc: 0.9412 - val_loss: 0.1518 - val_acc: 0.9522\n",
      "Epoch 14/30\n",
      "60000/60000 [==============================] - 2s - loss: 0.1911 - acc: 0.9432 - val_loss: 0.1456 - val_acc: 0.9540\n",
      "Epoch 15/30\n",
      "60000/60000 [==============================] - 2s - loss: 0.1822 - acc: 0.9466 - val_loss: 0.1402 - val_acc: 0.9549\n",
      "Epoch 16/30\n",
      "60000/60000 [==============================] - 2s - loss: 0.1726 - acc: 0.9491 - val_loss: 0.1359 - val_acc: 0.9567\n",
      "Epoch 17/30\n",
      "60000/60000 [==============================] - 2s - loss: 0.1663 - acc: 0.9511 - val_loss: 0.1312 - val_acc: 0.9576\n",
      "Epoch 18/30\n",
      "60000/60000 [==============================] - 2s - loss: 0.1603 - acc: 0.9530 - val_loss: 0.1262 - val_acc: 0.9597\n",
      "Epoch 19/30\n",
      "60000/60000 [==============================] - 2s - loss: 0.1571 - acc: 0.9534 - val_loss: 0.1214 - val_acc: 0.9599\n",
      "Epoch 20/30\n",
      "60000/60000 [==============================] - 2s - loss: 0.1483 - acc: 0.9569 - val_loss: 0.1182 - val_acc: 0.9617\n",
      "Epoch 21/30\n",
      "60000/60000 [==============================] - 2s - loss: 0.1453 - acc: 0.9570 - val_loss: 0.1149 - val_acc: 0.9633\n",
      "Epoch 22/30\n",
      "60000/60000 [==============================] - 2s - loss: 0.1403 - acc: 0.9583 - val_loss: 0.1116 - val_acc: 0.9641\n",
      "Epoch 23/30\n",
      "60000/60000 [==============================] - 2s - loss: 0.1367 - acc: 0.9584 - val_loss: 0.1094 - val_acc: 0.9647\n",
      "Epoch 24/30\n",
      "60000/60000 [==============================] - 2s - loss: 0.1307 - acc: 0.9610 - val_loss: 0.1058 - val_acc: 0.9662\n",
      "Epoch 25/30\n",
      "60000/60000 [==============================] - 2s - loss: 0.1273 - acc: 0.9620 - val_loss: 0.1037 - val_acc: 0.9659\n",
      "Epoch 26/30\n",
      "60000/60000 [==============================] - 2s - loss: 0.1248 - acc: 0.9627 - val_loss: 0.1015 - val_acc: 0.9667\n",
      "Epoch 27/30\n",
      "60000/60000 [==============================] - 2s - loss: 0.1205 - acc: 0.9642 - val_loss: 0.0990 - val_acc: 0.9683\n",
      "Epoch 28/30\n",
      "60000/60000 [==============================] - 2s - loss: 0.1161 - acc: 0.9654 - val_loss: 0.0979 - val_acc: 0.9686\n",
      "Epoch 29/30\n",
      "60000/60000 [==============================] - 2s - loss: 0.1147 - acc: 0.9651 - val_loss: 0.0953 - val_acc: 0.9699\n",
      "Epoch 30/30\n",
      "60000/60000 [==============================] - 2s - loss: 0.1103 - acc: 0.9670 - val_loss: 0.0941 - val_acc: 0.9698\n",
      "> training time is 1.2873 minutes\n"
     ]
    }
   ],
   "source": [
    "\n",
    "# declare learning rate, loss function, and model metric\n",
    "loss = 'categorical_crossentropy'\n",
    "lr = 0.01\n",
    "model.compile(loss=loss, optimizer=SGD(lr=lr), metrics=['accuracy'])\n",
    "\n",
    "# train the model\n",
    "batch_size = 128\n",
    "epochs = 30\n",
    "\n",
    "starting_time = time.time()\n",
    "history = model.fit(x_train, y_train,\n",
    "                    validation_data=(x_test, y_test),\n",
    "                    batch_size=batch_size,\n",
    "                    epochs=epochs)\n",
    "print('> training time is %.4f minutes' % ((time.time() - starting_time)/60))"
   ]
  },
  {
   "cell_type": "code",
   "execution_count": 5,
   "metadata": {
    "scrolled": true
   },
   "outputs": [
    {
     "name": "stdout",
     "output_type": "stream",
     "text": [
      " 9440/10000 [===========================>..] - ETA: 0sTest loss: 0.0941024177506\n",
      "Test accuracy: 0.9698\n"
     ]
    }
   ],
   "source": [
    "score = model.evaluate(x_test, y_test)\n",
    "print('Test loss:', score[0])\n",
    "print('Test accuracy:', score[1])"
   ]
  },
  {
   "cell_type": "code",
   "execution_count": 6,
   "metadata": {},
   "outputs": [
    {
     "data": {
      "image/png": "[encoded data removed]",
      "text/plain": [
       "<matplotlib.figure.Figure at 0x221550a4278>"
      ]
     },
     "metadata": {},
     "output_type": "display_data"
    }
   ],
   "source": [
    "# select a test image randomly\n",
    "random_test_index = np.random.choice(x_test.shape[0], size=1)[0]\n",
    "test_img = x_test[random_test_index]\n",
    "test_label = np.argmax(y_test[random_test_index])\n",
    "\n",
    "# predict test image with trained model\n",
    "pred_label = model.predict(np.expand_dims(test_img, axis=0))\n",
    "pred_label = np.argmax(pred_label)\n",
    "\n",
    "plt.imshow(test_img, cmap='gray')\n",
    "plt.title('true label = %d, predicted label = %d' % (test_label, pred_label))\n",
    "plt.show()"
   ]
  },
  {
   "cell_type": "code",
   "execution_count": null,
   "metadata": {
    "collapsed": true
   },
   "outputs": [],
   "source": []
  }
 ],
 "metadata": {
  "kernelspec": {
   "display_name": "Python [default]",
   "language": "python",
   "name": "python3"
  },
  "language_info": {
   "codemirror_mode": {
    "name": "ipython",
    "version": 3
   },
   "file_extension": ".py",
   "mimetype": "text/x-python",
   "name": "python",
   "nbconvert_exporter": "python",
   "pygments_lexer": "ipython3",
   "version": "3.5.3"
  }
 },
 "nbformat": 4,
 "nbformat_minor": 2
}
